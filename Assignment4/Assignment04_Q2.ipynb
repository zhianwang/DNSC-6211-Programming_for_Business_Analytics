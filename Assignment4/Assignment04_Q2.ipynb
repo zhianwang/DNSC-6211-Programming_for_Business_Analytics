{
 "cells": [
  {
   "cell_type": "markdown",
   "metadata": {},
   "source": [
    "### Task 2\n",
    "\n",
    "Use twython and the twitter search terms “Clinton” and “Trump” and the respective states (or the geolocation search option) to provide the required output."
   ]
  },
  {
   "cell_type": "code",
   "execution_count": 1,
   "metadata": {
    "collapsed": true
   },
   "outputs": [],
   "source": [
    "import twitter\n",
    "import textblob\n",
    "from twython import Twython"
   ]
  },
  {
   "cell_type": "code",
   "execution_count": 2,
   "metadata": {
    "collapsed": true
   },
   "outputs": [],
   "source": [
    "def getAuthData():\n",
    "    import csv\n",
    "    with open('/Users/apple1/Desktop/GWU/Programming/Lectures/Week7/authdata3.csv', 'r') as f:\n",
    "        reader = csv.reader(f)\n",
    "        your_list = list(reader)\n",
    "\n",
    "    authdata = {}   \n",
    "    for element in your_list:\n",
    "        authdata[element[0]] = element[1]\n",
    "    print(authdata)\n",
    "\n",
    "    return authdata\n",
    "\n",
    "def remove_punctuation(s):\n",
    "    #to remove the punctuations in the twitter#\n",
    "    punctuation = \"!\\\"#$%&'()*+,-./:;<=>?@[\\\\]^_`{|}~\"\n",
    "    s_sans_punct = \"\"\n",
    "    for letter in s:\n",
    "        if (letter not in punctuation) and (letter in \"abcdefghijklmnopqrstuvwxyz \"):\n",
    "            s_sans_punct += letter\n",
    "    return s_sans_punct\n",
    "\n",
    "def getLowerCaseText(status_texts):\n",
    "    #transfer all the twitter text into lowercase#\n",
    "    lowered_texts = []\n",
    "    for texts in status_texts:\n",
    "        try: \n",
    "            mytext = str(texts.lower())\n",
    "            lowered_texts.append(mytext)\n",
    "        except:\n",
    "            pass\n",
    "    return lowered_texts\n",
    "\n",
    "def remove_stopwords(lowered_text):\n",
    "    #remove the stopwords in the twitter, u can define the stopwords list by yourself#\n",
    "    #self define stopword list\n",
    "    stopword=['and','the','to','of','her','it','in','you','she','for','rt','via']\n",
    "    #stop = stopwords.words('english') + ['rt', 'via']\n",
    "    good_words=[]\n",
    "    good_text= [text for text in lowered_text if text not in stopword]\n",
    "    good_words.append(good_text)\n",
    "    #print(good_words)\n",
    "    return good_words\n",
    "\n",
    "def getCleanedTweets(lowered_texts):\n",
    "    cleanedTweets = []\n",
    "    for text in lowered_texts:\n",
    "        wordlist = str(text).split()\n",
    "        wordlist_nopun = [ str(remove_punctuation(for_a_word)) for for_a_word in wordlist ]\n",
    "        cleanedTweets.append(wordlist_nopun)\n",
    "    return cleanedTweets\n",
    "\n",
    "def getScore(fileName):\n",
    "    with open(\"/Users/apple1/Desktop/GWU/Programming/Assignments/assign4/\"+fileName,'r') as f:\n",
    "        tweetTexts = f.readlines()\n",
    "    lowered_texts = getLowerCaseText(tweetTexts)\n",
    "    lowered_texts = remove_stopwords(lowered_texts)\n",
    "    cleanedTweets = getCleanedTweets(lowered_texts)\n",
    "    sentimentList = GetSentimentScores(cleanedTweets)\n",
    "    score = sum(sentimentList)/len(sentimentList)*50+50 # making the range of polarity transform from -1~1 to 0~100\n",
    "    return(score)\n",
    "\n",
    "def GetSentimentScores(cleanedTweets):\n",
    "    sentiment = []\n",
    "    for eachTweet in cleanedTweets:\n",
    "        analysis = textblob.TextBlob(str(eachTweet))   \n",
    "        sentiment.append(analysis.sentiment.polarity) \n",
    "    return sentiment"
   ]
  },
  {
   "cell_type": "code",
   "execution_count": 3,
   "metadata": {
    "collapsed": true
   },
   "outputs": [],
   "source": [
    "def getTwythonData(searchTerm,fileName,geoCode):\n",
    "    twitter = Twython(CONSUMER_KEY,CONSUMER_SECRET)   \n",
    "    results = twitter.cursor(twitter.search, q=searchTerm,geocode=geoCode)  \n",
    "    \n",
    "    tw = []\n",
    "    n = 0\n",
    "    for tweet in results:\n",
    "        if n <= 1000:\n",
    "            tw.append(tweet['text'])\n",
    "            n += 1\n",
    "        else:\n",
    "            break\n",
    "    \n",
    "    with open(\"/Users/apple1/Desktop/GWU/Programming/Assignments/assign4/\"+fileName,'w') as f:   ###################\n",
    "        f.writelines(tw)\n"
   ]
  },
  {
   "cell_type": "code",
   "execution_count": 4,
   "metadata": {
    "collapsed": false
   },
   "outputs": [
    {
     "name": "stdout",
     "output_type": "stream",
     "text": [
      "{'OAUTH_TOKEN': '785603685308960770-tvJa79UET1Y5cYisZFz37c4h11wypCK', 'CONSUMER_KEY': 'tdxB9V3Iu8efauBTUqwt5cRRx', 'OAUTH_TOKEN_SECRET': 'bIixR0uMQEusF2frjMKKpwhMiduMcPF8pZA9OdS6y0PNY', 'CONSUMER_SECRET': 'PDb35zEJeXLoyl3hbu3EMlgS3rQMrOQGS1s9M7Pkp4EOhlXvQ1'}\n"
     ]
    }
   ],
   "source": [
    "authdata=getAuthData()\n",
    "\n",
    "CONSUMER_KEY = authdata['CONSUMER_KEY']\n",
    "CONSUMER_SECRET = authdata['CONSUMER_SECRET']\n",
    "OAUTH_TOKEN = authdata['OAUTH_TOKEN']\n",
    "OAUTH_TOKEN_SECRET = authdata['OAUTH_TOKEN_SECRET']"
   ]
  },
  {
   "cell_type": "code",
   "execution_count": 5,
   "metadata": {
    "collapsed": false
   },
   "outputs": [],
   "source": [
    "#getTwythonData('Trump', \"Trump_Michigan2.txt\",'44.31,-85.60,500mi')\n",
    "#getTwythonData('Trump', \"Trump_Nevada2.txt\",'39.13,-121.17,500mi')\n",
    "#getTwythonData('Trump', \"Trump_Wisconsin2.txt\",'43.78,-88.79,500mi')\n",
    "#getTwythonData('Trump', \"Trump_Ohio2.txt\",'40.42,-82.91,300mi')\n",
    "\n",
    "#getTwythonData('Clinton', \"Clinton_Michigan2.txt\",'44.31,-85.60,500mi')\n",
    "#getTwythonData('Clinton', \"Clinton_Nevada2.txt\",'39.13,-121.17,500mi')\n",
    "#getTwythonData('Clinton', \"Clinton_Wisconsin2.txt\",'43.78,-88.79,500mi')\n",
    "getTwythonData('Clinton', \"Clinton_Ohio2.txt\",'40.42,-82.91,300mi')\n",
    "#If u run all the eight functions at the same time, there will be error 429 due to the 15min limit.\n",
    "#IT IS NOT AN ERROR OF CODE~ \n",
    "#PLZ TRY TO RUN FUNCTIONS SEPERATELY TO AVOID 15MINS LIMIT"
   ]
  },
  {
   "cell_type": "code",
   "execution_count": 6,
   "metadata": {
    "collapsed": false
   },
   "outputs": [
    {
     "data": {
      "text/plain": [
       "<matplotlib.text.Text at 0x117ac3160>"
      ]
     },
     "execution_count": 6,
     "metadata": {},
     "output_type": "execute_result"
    },
    {
     "data": {
      "image/png": "[encoded data removed]",
      "text/plain": [
       "<matplotlib.figure.Figure at 0x117b46d68>"
      ]
     },
     "metadata": {},
     "output_type": "display_data"
    }
   ],
   "source": [
    "import csv\n",
    "import pandas as pd\n",
    "\n",
    "TM2=getScore('Trump_Michigan2.txt')\n",
    "TN2=getScore('Trump_Nevada2.txt')\n",
    "TW2=getScore('Trump_Wisconsin2.txt')\n",
    "TO2=getScore('Trump_Ohio2.txt')\n",
    "\n",
    "CM2=getScore('Clinton_Michigan2.txt')\n",
    "CN2=getScore('Clinton_Nevada2.txt')\n",
    "CW2=getScore('Clinton_Wisconsin2.txt')\n",
    "CO2=getScore('Clinton_Ohio2.txt')\n",
    "\n",
    "data = {\"Trump\":[TO2,TW2,TN2,TM2],\"Clinton\":[CO2,CW2,CN2,CM2]}\n",
    "DF = pd.DataFrame(data,index=[\"Ohio\",\"Wisconsin\",\"Nevada\",\"Michigan\"])\n",
    "#print(DF)\n",
    "\n",
    "%matplotlib inline\n",
    "import matplotlib.pyplot as plt\n",
    "import matplotlib\n",
    "matplotlib.style.use('ggplot')  \n",
    "\n",
    "DF.plot(kind=\"barh\")\n",
    "plt.title(\"Sentiment Analysis of Clinton and Trump\")"
   ]
  },
  {
   "cell_type": "markdown",
   "metadata": {
    "collapsed": true
   },
   "source": [
    "As the function randomly search and select the twitter, the texts and files we "
   ]
  }
 ],
 "metadata": {
  "anaconda-cloud": {},
  "kernelspec": {
   "display_name": "Python [Root]",
   "language": "python",
   "name": "Python [Root]"
  },
  "language_info": {
   "codemirror_mode": {
    "name": "ipython",
    "version": 3
   },
   "file_extension": ".py",
   "mimetype": "text/x-python",
   "name": "python",
   "nbconvert_exporter": "python",
   "pygments_lexer": "ipython3",
   "version": "3.5.2"
  }
 },
 "nbformat": 4,
 "nbformat_minor": 0
}
