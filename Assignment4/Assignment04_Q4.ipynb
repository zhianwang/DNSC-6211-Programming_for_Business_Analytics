{
 "cells": [
  {
   "cell_type": "markdown",
   "metadata": {},
   "source": [
    "### Task 4 (bonous)\n",
    "\n",
    "#### Question: Explain what a streaming framework is and how it works (150 words max). Demonstrate the process / framework and provide the python code."
   ]
  },
  {
   "cell_type": "markdown",
   "metadata": {},
   "source": [
    "** a. What streaming framework is:**\n",
    "\n",
    "The Streaming APIs give developers low latency access to Twitter’s global stream of Tweet data. A proper implementation of a streaming client will be pushed messages indicating Tweets and other events have occurred, without any of the overhead associated with polling a REST endpoint.\n",
    "Twitter offers several streaming endpoints, each customized to certain use cases, such as public streams, user streams and site streams.\n",
    "\t\n",
    "** b. How streaming works: **\n",
    "\n",
    "1.Connecting to a streaming endpoint\n",
    "\n",
    "2.Setting streaming API request parameters\n",
    "\n",
    "3.Setting streaming API message types\n",
    "\n",
    "4.Processing streaming data\n"
   ]
  },
  {
   "cell_type": "markdown",
   "metadata": {},
   "source": [
    "#### References:\n",
    "* https://dev.twitter.com/streaming/overview\n",
    "* https://twython.readthedocs.io/en/latest/usage/streaming_api.html#"
   ]
  },
  {
   "cell_type": "code",
   "execution_count": 1,
   "metadata": {
    "collapsed": false
   },
   "outputs": [],
   "source": [
    "import twitter\n",
    "import tweepy\n",
    "\n",
    "def getAuthData():\n",
    "    import csv\n",
    "    with open('authdata.csv', 'r') as f:\n",
    "        reader = csv.reader(f)\n",
    "        your_list = list(reader)\n",
    "\n",
    "    authdata = {}   \n",
    "    for element in your_list:\n",
    "        authdata[element[0]] = element[1]\n",
    "\n",
    "    return authdata\n",
    "\n",
    "authdata = getAuthData()\n",
    "CONSUMER_KEY = authdata['CONSUMER_KEY']\n",
    "CONSUMER_SECRET = authdata['CONSUMER_SECRET']\n",
    "OAUTH_TOKEN = authdata['OAUTH_TOKEN']\n",
    "OAUTH_TOKEN_SECRET = authdata['OAUTH_TOKEN_SECRET']\n",
    "\n",
    "auth = tweepy.OAuthHandler(CONSUMER_KEY, CONSUMER_SECRET)\n",
    "auth.set_access_token(OAUTH_TOKEN,OAUTH_TOKEN_SECRET)\n",
    "api = tweepy.API(auth)"
   ]
  },
  {
   "cell_type": "markdown",
   "metadata": {},
   "source": [
    "#### An example of use streaming in tweepy\n",
    "#### We set a count limit 100 in streaming "
   ]
  },
  {
   "cell_type": "code",
   "execution_count": 3,
   "metadata": {
    "collapsed": false
   },
   "outputs": [
    {
     "name": "stdout",
     "output_type": "stream",
     "text": [
      "Limit threshold exceeded 1\n"
     ]
    }
   ],
   "source": [
    "import tweepy\n",
    "from tweepy.streaming import StreamListener\n",
    "from tweepy import OAuthHandler\n",
    "\n",
    "from tweepy import Stream\n",
    "#import json, time, sys\n",
    "\n",
    "auth = tweepy.OAuthHandler(CONSUMER_KEY, CONSUMER_SECRET)\n",
    "auth.set_access_token(OAUTH_TOKEN, OAUTH_TOKEN_SECRET)\n",
    "\n",
    "twitterText = []\n",
    "class StdOutListener(StreamListener):\n",
    "    def __init__(self, api=None):\n",
    "        super(StdOutListener, self).__init__()\n",
    "        self.num_tweets = 0\n",
    "\n",
    "    def on_status(self, status):\n",
    "        self.num_tweets += 1\n",
    "        if self.num_tweets <= 100:     \n",
    "        # If you use 1000 here, definitely you will meet \"Limit threshold exceeded\"\n",
    "        # change 1000 to 50 just to verify the correction of the code can avoid this problem\n",
    "            twitterText.append(status.text)\n",
    "            return True\n",
    "        else:\n",
    "            return False \n",
    "               \n",
    "    def on_error(self, status):\n",
    "        print ('Error on status', status)\n",
    "\n",
    "    def on_limit(self, status):\n",
    "        print ('Limit threshold exceeded', status)\n",
    "\n",
    "    def on_timeout(self, status):\n",
    "        print ('Stream disconnected; continuing...')\n",
    "\n",
    "\n",
    "stream = Stream(auth, StdOutListener())\n",
    "stream.filter(track=[\"Trump\"],locations=[44.31,-85.60,45.31,-84.60])\n"
   ]
  },
  {
   "cell_type": "code",
   "execution_count": 4,
   "metadata": {
    "collapsed": false
   },
   "outputs": [
    {
     "name": "stdout",
     "output_type": "stream",
     "text": [
      "['But something sets Trump off. Somebody makes a joke, \"Can you imagine if you won?\" And it festers. Like a canker. It pisses him off.', 'RT @joshtpm: 1: The RNC was abt to get out of under a consent decree its been under since the 80s for intimidating ...  https://t.co/CfGuLQ…', \"#Pennsylvania Statement by Pennsylvania's Calvin R. Tucker on Donald Trump's Urban Renewal Agenda for ...\", 'RT @JaredWyand: Donald Trump campaigns like he has an arc reactor in his chest', '(Wash Times) Pat Toomey, Joe Heck, Marco Rubio back away from Donald Trump https://t.co/nK5NMDph6w', 'RT @CLewandowski_: Study: 91 percent of coverage on evening newscasts was negative to Donald Trump https://t.co/esdjAKcuJN', 'RT @roycan79: REVOLUTION TIME!  #TRUMP\\n#Ohio \\n#Pennsylvania \\n#NorthCarolina\\n#Nevada\\n#Colorado\\n#Florida\\n#Arizona\\n#Georgia… ', 'RT @TomasAntonio67: @NBCNews https://t.co/VzpeIZRugL', 'RT @ShaunKing: You have to see this for yourself. \\n\\nIn 2013, Trump, who now denies any such a relationship, repeatedly says he has… ', 'RT @aduanebrown: Trump leaves campaign trail for 2hrs to go create more jobs at his new property\\n\\nSick Hillary leaves the trail for days to…', \"RT @KTLA: Donald Trump's Walk of Fame star was vandalized with a sledgehammer this morning https://t.co/xZKkwlJACA https://t.co/8AfbZ8RCSq\", '@realDonaldTrump Ck. out video of poll watchers on Facebook destroying Trump early votes ..Use your head @clbcwb', \"RT @immigrant4trump: If you make this go viral, Trump will win. It's 4 minutes that makes the choice in this election crystal clear.… \", 'RT @TallahForTrump: Media wants us to believe their lies.\\nTrump wants us to believe our eyes. https://t.co/1Zu7wNGO5p', 'Profiles in courage. https://t.co/8eQLlptMmv', 'RT @mitchellvii: Fox Poll proves, Indies are turning to Trump late.  Hillary is TOAST.', 'RT @PrisonPlanet: Leftist advocates \"hate crime\" against 16-year-old African-American Trump supporter. #HillarysBullies https://t.co/9yadW0…', 'RT @butterfingers_2: Oh the irony.  Hillary is the #whitedevil https://t.co/M14OrcutG9', 'and what will you do with said Musket champ? https://t.co/tn0JKMaTTk', 'RT @Darren32895836: Americas Sweetheart❤️@brunelldonald jus took down Krauthammer Elitist Panel! Everything u need 2know on why Donald… ', \"RT @BrandonEvrs: I didn't know he did it for SA survivors. I have even more respect for him now. https://t.co/0FpbLlLQEQ\", 'RT @stolmeier: Everyone hated Reagan too. There were only three main TV stations back then and they all said he was 9 points behin… ', 'RT @TeaPartyCat: Next up on Fox News: Hillary turns 69 today. Our panel discusses whether her being 69 is an insult to the women assaulted…', 'RT @mitchellvii: Folks, if THIS is true, this race is over, Trump wins in a walk. https://t.co/sN9pgPxCr8', 'RT @AJDelgado13: CNN panel consists of Anderson Cooper and a bunch of non-psychologists... playing psychologist... about Trump.\\nAmazingly o…', 'RT @MichelleDiana: Third Pence rally of the day with another loud cheering crowd signs waving high for the Trump-Pence ticket #MAGA… ', \"RT @peddoc63: Yes I know better. If I'm an asshole then so are Rubio, Cruz and Levin. They're all voting for Trump😘 https://t.co/HCNdwbOpDx\", 'RT @TeddCollins: Point of order: Why wait to grab your musket and rebel after Election Day IF the election is rigged? #Election2016 https:/…', 'RT @AmericanMousa: @TomthunkitsMind https://t.co/7cKCmAotO0', '¿Cómo podría Donald Trump acabar con el planeta? #GrandesMedios https://t.co/HgEZ78zBb7', 'RT @newtgingrich: Will be live on @facebook in a few minutes to discuss trump: under budget, ahead of schedule. Submit questions:… ', 'RT @loopzoop: Well...put it back https://t.co/8Yb7BDT5VM', \"I voted 4 Cruz in the primary but have accepted the will of the ppl and will vote 4 Trump. We can't have 4 more yrs… https://t.co/5H3orgxCkm\", 'This Video Gets Donald Trump Elected!  Wow! https://t.co/qeTrem1QCc', 'RT @cathleendecker: Cited his 15 yr old daughter when he pulled support: \"Do you think I can look her in the eye and tell her that I en… ', 'RT @JoeyGraceffa: Omg just woke up from the best dream ever! Trump lost the election! Humanity was able to survive for hundreds of years be…', 'RT @ForecasterEnten: Mark Halperin loves Donald Trump more than I love diet soda.', \"RT @CEnzoGiacomo: Jumpin Jiminy crickets there's gotta be something Dreadful that the clintons are going to pull out, in the waiting. https…\", 'RT @ErinBurnett: Will Obamacare turn voters to Trump? Man who pays $14k/yr, another $900/month say yes. @SchneiderCNN is @OutFrontCNN https…', '⚡ Destruyen la estrella de Donald Trump en el paseo de la fama\\n\\nhttps://t.co/iFVdDBGHVh', 'RT @DiamondandSilk: Crooked Hillary works 4 two days &amp; off for 5 not a peek from the MSM. Trump take 2 hrs for a ribbon cutting, the me… ', 'RT @MichelleDiana: Third Pence rally of the day with another loud cheering crowd signs waving high for the Trump-Pence ticket #MAGA… ', 'RT @StephenKing: My newest horror story: Once upon a time there was a man named Donald Trump, and he ran for president. Some people wanted…', 'RT @DanScavino: National USC Dornsife / LA Times Daily Tracking Poll :\\nTrump 45 (+1)\\nClinton 44\\nhttps://t.co/xIPDCTVVjD https://t.co/nYdHwL…', 'RT @CandaceSmith_: As Trump talks about revitalizing inner cities, just a note: \\n\\nMore Black people live in the suburbs than anywhere else.', \"RT @baytato: Good morning everyone especially the person who destroyed Donald Trump's walk of fame star https://t.co/IcBthxMPd9\", 'RT @fakedansavage: Jinxy but delicious reading. https://t.co/Xj416V9XMr', \"RT @fige1000: The picture CNN doesn't want you to see. A hispanic church in Los Angeles supporting #Trump! #TrumpTrain https://t.co/r6nmPh0…\", \"RT @andrewsweiss: Can't make it up: Trump's son in law publishes article by Kremlin mouthpiece suggesting Moscow may want Alaska back https…\", 'RT @KellyannePolls: Think about it. https://t.co/JnHf1cwPdx', 'WATCH – Black Trump Fans Come Forward With Viral Video to Reveal Why They Support TRUMP! - About 2DAY https://t.co/CxoOruwpbR', \"RT @unsmokabIe: the man who destroyed donald trump's hollywood walk of fame star said he did it for sexual assault victims. not all… \", 'RT @WayneRoot: A phenomenon happening all over USA. MASSIVE lines to vote. 3 hour, 4 hour, 6 hour madhouses. NOT coming out 4 Hillary. #TRU…', 'RT @khhflop: me: I hate geography\\ndonald trump: I hate geography\\nme: https://t.co/q1qeS1przQ', \"RT @American_Inca: @Ferine41 @WDFx2EU7 @kpowellbanks BLUE STATE NY, HERE...I'm soooo voting TRUMP!\", \"RT @baytato: Good morning everyone especially the person who destroyed Donald Trump's walk of fame star https://t.co/IcBthxMPd9\", \"@SopanDeb Biden would whoop Trump's ass.\", 'RT @asamjulian: MUST WATCH: MSNBC interviews black women voters about Donald Trump. Very powerful! Share this video! https://t.co/tSe3eshcdM', 'RT @SopanDeb: Really, read this whole thing. Such a remarkable stream of consciousness. Mosul, Patton, early voting, stupid peopl… ', \"RT @baytato: Good morning everyone especially the person who destroyed Donald Trump's walk of fame star https://t.co/IcBthxMPd9\", \"@handsattheheart I mean change starts from the ground up anyway so I think it's okay to vote for Hillary to prevent Trump but (c)\", '@adelesoup ...you gotta remember who said that...Trump supporters... They will say anything ...believe me..I got into it with one and ...', '@WeNeedTrump \\nAND, DO ANYTHING TO WIN=NOT GOOD 4 AMERICA \\n#TRUMP&amp;PENCE \\n#LANDSLIDEVICTORY', 'RT @debspargo89: @realDonaldTrump @Jewtastic Thank you! America thanks you!\\nTogether we will #MakeAmericaGreatAgain \\n#TrumpStrong https://t…', 'This is down right childish. #democraticpartyrepresentation https://t.co/UoCeN44Sv2', 'RT @redsteeze: How to fake bone spurs? https://t.co/m917J3sl4N', \"@tonyschwartz, @MarkHalperin called Trump the most talented politician of our lifetime. Let's not pretend he's a journalist.\", \"RT @StephenKing: Trump voters, please think again. Sure, you're mad. I get that. But you don't burn down the house because you don't like t…\", 'RT @ThorpeOcto: \"70% citizens want change: You\\'re not going to get change w Hillary\", former FBI director @realDonaldTrump… ', 'RT @tpartynews: Donald Trump: Measure 4: \"A 5-year ban on WH and Congressional officials becoming lobbyists after they leave govern… ', '@DonaldT4Prez Trump will get 270+', 'RT @aduanebrown: Trump is now +4 in Ohio and +2 in Florida. He leads despite the massive oversampling of Democrats.\\n\\nWe will win!… ', 'RT @RickyWrightSEO: NANCY REAGAN:  I DESPISE THE MAN ! {TRUMP} https://t.co/i1BooGd7NM https://t.co/zZZyF9gdrc', 'RT @roycan79: REVOLUTION TIME!  #TRUMP\\n#Ohio \\n#Pennsylvania \\n#NorthCarolina\\n#Nevada\\n#Colorado\\n#Florida\\n#Arizona\\n#Georgia… ', 'RT @MaddowBlog: Trump Loyalists Planned Voter Intimidation Using Fake ID Badges, Fake Exit Polling https://t.co/6optMu3o9i\\n#Maddow', 'RT @SopanDeb: Trump on Mosul: \"But there’s nothing better than the word stupid to describe these people. ..I know so many words.\" https://t…', 'RT @Darren32895836: Americas Sweetheart❤️@brunelldonald jus took down Krauthammer Elitist Panel! Everything u need 2know on why Donald… ', 'RT @OldRowOfficial: Know who also destroys monuments of those they disagree with? ISIS and the Taliban. https://t.co/ucZRtKUPSk', 'RT @OldRowOfficial: Know who also destroys monuments of those they disagree with? ISIS and the Taliban. https://t.co/ucZRtKUPSk', \"RT @American_Inca: @Ferine41 @WDFx2EU7 @kpowellbanks BLUE STATE NY, HERE...I'm soooo voting TRUMP!\", \"RT @mckenna_shay: .@lonadean11 Don't know if this is true but other medical experts have said the same or similar things about her se… \", 'RT @MichaelRayAdam2: The Times Libs, 〽️HilLIARy &amp; S👹R👹S Paid Anarchists \\nGot Violent With 🦁TRUMP🦁 Supporters❗️❗️❗️ \\nhttps://t.co/af6UyGvtLQ', \"Damn that #Trump !\\nI've gained 20 pounds lately from eating all this popcorn.\", 'RT @artfudd: Married Donald Trump Kept ‘Proposing’ to Celebrity Apprentice and Playboy Model Brande Roderick https://t.co/acn96ZhPuN via @t…', 'Hyperreality in US elections from Reagan to Trump. By Kristen Wilson #OurTurnNow  https://t.co/zyDf0earog', \"RT @judgmentalgay: good morning everyone especially to the person who destroyed donald trump's hollywood walk of fame star https://t.co/7KW…\", 'RT @JudgeJeanine: .@realDonaldTrump criticized for spending one hour on hotel open-no Hillary criticism to attend concert. Thousands of job…', 'RT @larryelder: The only illegals Hillary ever criticizes are the ones she accuses Trump of hiring.', \"update my 4 yr old brother says he's voting for trump\", 'RT @realjunsonchan: Trump today, \"Everywhere I go, all I see is unlimited potential. If we believe in ourselves we can do anything. That\\'s…', 'RT @igorvolsky: This is exactly why we need HIGHER STANDARDS for gun ownership. To protect ourselves from dumbasses like this guy… ', 'I liked a @YouTube video https://t.co/56p8XIP8g9 Putin: “If Americans vote for Trump, they’re voting for peace! ”If they vote', '@Ind3pendant @RealClearNews Trump is the one struggling towards 270. Losing Utah would be devastating for Trump.', 'RT @AJDelgado13: CNN panel consists of Anderson Cooper and a bunch of non-psychologists... playing psychologist... about Trump.\\nAmazingly o…', 'Thanks to Trump, RNC is in a bad financial position heading into the general election https://t.co/hI828M75p6 via @HuffPostPol', 'RT @KMGVictoria: 🐸🐸🐸 Grace &amp; Steel Return With Ep 58: Bonfire of the Vanities; Politics Return With #Trump &amp; the Elite Trembles 🐸🐸🐸 https:/…', \"Gotta go to sleep before I get in trouble for mass following all you Let's defeat #Trump\", \"RT @PapiFranquito: Someone destroyed Donald Trump's Star on the Walk of Fame. RT to make someone's day ☝️️ https://t.co/d36frVVWyH\", 'RT @aduanebrown: Trump leaves campaign trail for 2hrs to go create more jobs at his new property\\n\\nSick Hillary leaves the trail for days to…', 'RT @EvoletJohnsoGOP: Terrific! “I Love Donald Trump” Rap Video by ‘Mint Chip’ https://t.co/CEgo3oK9JM https://t.co/JfR5iPkaKn']\n"
     ]
    }
   ],
   "source": [
    "# Show 10 twitterText\n",
    "print ([i for i in twitterText[:100]])  \n",
    "\n",
    "# Save the twitter data in txt file\n",
    "with open(\"Trump_Michigan_TweepyStream.txt\", \"w\") as f:\n",
    "    f.writelines(twitterText)"
   ]
  },
  {
   "cell_type": "code",
   "execution_count": null,
   "metadata": {
    "collapsed": true
   },
   "outputs": [],
   "source": []
  }
 ],
 "metadata": {
  "anaconda-cloud": {},
  "kernelspec": {
   "display_name": "Python [Root]",
   "language": "python",
   "name": "Python [Root]"
  },
  "language_info": {
   "codemirror_mode": {
    "name": "ipython",
    "version": 3
   },
   "file_extension": ".py",
   "mimetype": "text/x-python",
   "name": "python",
   "nbconvert_exporter": "python",
   "pygments_lexer": "ipython3",
   "version": "3.5.2"
  }
 },
 "nbformat": 4,
 "nbformat_minor": 1
}
