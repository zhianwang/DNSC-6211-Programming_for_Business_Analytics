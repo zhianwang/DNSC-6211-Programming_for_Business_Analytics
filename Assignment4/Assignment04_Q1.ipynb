{
 "cells": [
  {
   "cell_type": "markdown",
   "metadata": {},
   "source": [
    "### Task 1\n",
    "\n",
    "Use tweepy and the twitter search terms “Clinton” and “Trump” and the respective states (or the geolocation search option) to provide the required output."
   ]
  },
  {
   "cell_type": "code",
   "execution_count": 1,
   "metadata": {
    "collapsed": true
   },
   "outputs": [],
   "source": [
    "import twitter\n",
    "import tweepy\n",
    "import textblob"
   ]
  },
  {
   "cell_type": "code",
   "execution_count": 2,
   "metadata": {
    "collapsed": false
   },
   "outputs": [],
   "source": [
    "def getAuthData():\n",
    "    import csv\n",
    "    with open('/Users/apple1/Desktop/GWU/Programming/Lectures/Week7/authdata.csv', 'r') as f:\n",
    "        reader = csv.reader(f)\n",
    "        your_list = list(reader)\n",
    "\n",
    "    authdata = {}   \n",
    "    for element in your_list:\n",
    "        authdata[element[0]] = element[1]\n",
    "    print(authdata)\n",
    "\n",
    "    return authdata\n",
    "\n",
    "def remove_punctuation(s):\n",
    "    #to remove the punctuations in the twitter#\n",
    "    punctuation = \"!\\\"#$%&'()*+,-./:;<=>?@[\\\\]^_`{|}~\"\n",
    "    s_sans_punct = \"\"\n",
    "    for letter in s:\n",
    "        if (letter not in punctuation) and (letter in \"abcdefghijklmnopqrstuvwxyz \"):\n",
    "            s_sans_punct += letter\n",
    "    return s_sans_punct\n",
    "\n",
    "def getLowerCaseText(status_texts):\n",
    "    #transfer all the twitter text into lowercase#\n",
    "    lowered_texts = []\n",
    "    for texts in status_texts:\n",
    "        try: \n",
    "            mytext = str(texts.lower())\n",
    "            lowered_texts.append(mytext)\n",
    "        except:\n",
    "            pass\n",
    "    return lowered_texts\n",
    "\n",
    "def remove_stopwords(lowered_text):\n",
    "    #remove the stopwords in the twitter, u can define the stopwords list by yourself#\n",
    "    #self define stopword list\n",
    "    stopword=['and','the','to','of','her','it','in','you','she','for','rt','via']\n",
    "    #stop = stopwords.words('english') + ['rt', 'via']\n",
    "    good_words=[]\n",
    "    good_text= [text for text in lowered_text if text not in stopword]\n",
    "    good_words.append(good_text)\n",
    "    #print(good_words)\n",
    "    return good_words\n",
    "\n",
    "def getCleanedTweets(lowered_texts):\n",
    "    cleanedTweets = []\n",
    "    for text in lowered_texts:\n",
    "        wordlist = str(text).split()\n",
    "        wordlist_nopun = [ str(remove_punctuation(for_a_word)) for for_a_word in wordlist ]\n",
    "        cleanedTweets.append(wordlist_nopun)\n",
    "    return cleanedTweets\n",
    "\n",
    "def getScore(fileName):\n",
    "    with open(\"/Users/apple1/Desktop/GWU/Programming/Assignments/assign4/\"+fileName,'r') as f:\n",
    "        tweetTexts = f.readlines()\n",
    "    lowered_texts = getLowerCaseText(tweetTexts)\n",
    "    lowered_texts = remove_stopwords(lowered_texts)\n",
    "    cleanedTweets = getCleanedTweets(lowered_texts)\n",
    "    sentimentList = GetSentimentScores(cleanedTweets)\n",
    "    score = sum(sentimentList)/len(sentimentList)*50+50\n",
    "    return(score)\n",
    "\n",
    "def GetSentimentScores(cleanedTweets):\n",
    "    sentiment = []\n",
    "    for eachTweet in cleanedTweets:\n",
    "        analysis = textblob.TextBlob(str(eachTweet))   \n",
    "        sentiment.append(analysis.sentiment.polarity)\n",
    "    return sentiment"
   ]
  },
  {
   "cell_type": "code",
   "execution_count": 3,
   "metadata": {
    "collapsed": true
   },
   "outputs": [],
   "source": [
    "def getTweepyData(searchTerm, fileName,geoCode):\n",
    "    auth = tweepy.OAuthHandler(CONSUMER_KEY, CONSUMER_SECRET)\n",
    "    auth.set_access_token(OAUTH_TOKEN,OAUTH_TOKEN_SECRET)\n",
    "    api = tweepy.API(auth)    \n",
    "    \n",
    "    tweet_cursor = tweepy.Cursor(api.search,q=searchTerm,geocode=geoCode)\n",
    "    \n",
    "    tweetTexts = []\n",
    "    n=0\n",
    "    for tweet in tweet_cursor.items():    \n",
    "        if n <= 1000:\n",
    "            tweetTexts.append(tweet.text) \n",
    "            n += 1\n",
    "        else: \n",
    "            break\n",
    "    \n",
    "    with open(\"/Users/apple1/Desktop/GWU/Programming/Assignments/assign4/\"+fileName,'a') as f:\n",
    "        f.writelines(tweetTexts)"
   ]
  },
  {
   "cell_type": "code",
   "execution_count": 4,
   "metadata": {
    "collapsed": false
   },
   "outputs": [
    {
     "name": "stdout",
     "output_type": "stream",
     "text": [
      "{'CONSUMER_SECRET': 'X99oZDllVi8PTHBwzYZHtQ8XtVPajfox3LUNYqvOVP59fBK7pO', 'OAUTH_TOKEN_SECRET': 'gcfgjX7L3sc2lKvIbAuv8vP1UB8wXZ46OZh23DAGWY5k9', 'CONSUMER_KEY': 'bmePjiwBTnyOUGGWMOdGT66QU', 'OAUTH_TOKEN': '785603898312536064-veCLryQtpIqdJEi7jUJQGuQetHOld8n'}\n"
     ]
    }
   ],
   "source": [
    "authdata=getAuthData()\n",
    "\n",
    "CONSUMER_KEY = authdata['CONSUMER_KEY']\n",
    "CONSUMER_SECRET = authdata['CONSUMER_SECRET']\n",
    "OAUTH_TOKEN = authdata['OAUTH_TOKEN']\n",
    "OAUTH_TOKEN_SECRET = authdata['OAUTH_TOKEN_SECRET']\n"
   ]
  },
  {
   "cell_type": "code",
   "execution_count": 5,
   "metadata": {
    "collapsed": false
   },
   "outputs": [],
   "source": [
    "#getTweepyData('Trump', \"Trump_Michigan.txt\",'44.31,-85.60,500mi')\n",
    "#getTweepyData('Trump', \"Trump_Nevada.txt\",'39.13,-121.17,500mi')\n",
    "#getTweepyData('Trump', \"Trump_Wisconsin.txt\",'43.78,-88.79,500mi')\n",
    "#getTweepyData('Trump', \"Trump_Ohio.txt\",'40.42,-82.91,300mi')\n",
    "\n",
    "#getTweepyData('Clinton', \"Clinton_Michigan.txt\",'44.31,-85.60,500mi')\n",
    "#getTweepyData('Clinton', \"Clinton_Nevada.txt\",'39.13,-121.17,500mi')\n",
    "getTweepyData('Clinton', \"Clinton_Wisconsin.txt\",'43.78,-88.79,500mi')\n",
    "getTweepyData('Clinton', \"Clinton_Ohio.txt\",'40.42,-82.91,300mi')\n",
    "#If u run all the eight functions at the same time, there will be error 429 due to the 15min limit.\n",
    "#IT IS NOT AN ERROR OF CODE~ \n",
    "#PLZ TRY TO RUN FUNCTIONS SEPERATELY TO AVOID 15MINS LIMIT"
   ]
  },
  {
   "cell_type": "code",
   "execution_count": 6,
   "metadata": {
    "collapsed": false
   },
   "outputs": [
    {
     "data": {
      "text/plain": [
       "<matplotlib.text.Text at 0x118616b00>"
      ]
     },
     "execution_count": 6,
     "metadata": {},
     "output_type": "execute_result"
    },
    {
     "data": {
      "image/png": "[encoded data removed]",
      "text/plain": [
       "<matplotlib.figure.Figure at 0x118623518>"
      ]
     },
     "metadata": {},
     "output_type": "display_data"
    }
   ],
   "source": [
    "import csv\n",
    "import pandas as pd\n",
    "\n",
    "TM=getScore('Trump_Michigan.txt')\n",
    "TN=getScore('Trump_Nevada.txt')\n",
    "TW=getScore('Trump_Wisconsin.txt')\n",
    "TO=getScore('Trump_Ohio.txt')\n",
    "\n",
    "CM=getScore('Clinton_Michigan.txt')\n",
    "CN=getScore('Clinton_Nevada.txt')\n",
    "CW=getScore('Clinton_Wisconsin.txt')\n",
    "CO=getScore('Clinton_Ohio.txt')\n",
    "\n",
    "data = {\"Trump\":[TO,TW,TN,TM],\"Clinton\":[CO,CW,CN,CM]}\n",
    "DF = pd.DataFrame(data,index=[\"Ohio\",\"Wisconsin\",\"Nevada\",\"Michigan\"])\n",
    "#print(DF)\n",
    "\n",
    "%matplotlib inline\n",
    "import matplotlib.pyplot as plt\n",
    "import matplotlib\n",
    "matplotlib.style.use('ggplot')  \n",
    "\n",
    "DF.plot(kind=\"barh\")\n",
    "plt.title(\"Sentiment Analysis of Clinton and Trump\")"
   ]
  },
  {
   "cell_type": "code",
   "execution_count": null,
   "metadata": {
    "collapsed": true
   },
   "outputs": [],
   "source": []
  }
 ],
 "metadata": {
  "anaconda-cloud": {},
  "kernelspec": {
   "display_name": "Python [Root]",
   "language": "python",
   "name": "Python [Root]"
  },
  "language_info": {
   "codemirror_mode": {
    "name": "ipython",
    "version": 3
   },
   "file_extension": ".py",
   "mimetype": "text/x-python",
   "name": "python",
   "nbconvert_exporter": "python",
   "pygments_lexer": "ipython3",
   "version": "3.5.2"
  }
 },
 "nbformat": 4,
 "nbformat_minor": 0
}
